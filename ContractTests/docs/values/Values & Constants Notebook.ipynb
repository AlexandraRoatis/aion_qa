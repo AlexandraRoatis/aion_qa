{
 "cells": [
  {
   "cell_type": "markdown",
   "metadata": {},
   "source": [
    "# Sales.sol Initialization Values\n",
    "\n",
    "The following values determine our softcap, hardcap, starting and closing times"
   ]
  },
  {
   "cell_type": "code",
   "execution_count": 3,
   "metadata": {},
   "outputs": [
    {
     "name": "stdout",
     "output_type": "stream",
     "text": [
      "soft_cap_wei: 50000000000000000000000\n",
      "hard_cap_wei: 116666666666666666666666\n",
      "sale_start_time: 1507039200\n",
      "sale_end_time: 1507644000\n"
     ]
    }
   ],
   "source": [
    "import gmpy2\n",
    "from gmpy2 import mpz\n",
    "\n",
    "eth_to_usd = mpz(300)\n",
    "soft_cap = gmpy2.mul(mpz(15000000), (pow(mpz(10), 18)))\n",
    "hard_cap = gmpy2.mul(mpz(35000000), (pow(mpz(10), 18)))\n",
    "soft_cap_wei = gmpy2.div(soft_cap, eth_to_usd)\n",
    "hard_cap_wei = gmpy2.div(hard_cap, eth_to_usd)\n",
    "\n",
    "print(\"soft_cap_wei: \" + str(soft_cap_eth))\n",
    "print(\"hard_cap_wei: \" + str(hard_cap_eth))\n",
    "\n",
    "sale_start_time = 1507039200\n",
    "sale_end_time = sale_start_time + 60 * 60 * 24 * 7\n",
    "\n",
    "print(\"sale_start_time: \" + str(sale_start_time))\n",
    "print(\"sale_end_time: \" + str(sale_end_time))"
   ]
  },
  {
   "cell_type": "code",
   "execution_count": null,
   "metadata": {
    "collapsed": true
   },
   "outputs": [],
   "source": []
  }
 ],
 "metadata": {
  "kernelspec": {
   "display_name": "Python 3",
   "language": "python",
   "name": "python3"
  },
  "language_info": {
   "codemirror_mode": {
    "name": "ipython",
    "version": 3
   },
   "file_extension": ".py",
   "mimetype": "text/x-python",
   "name": "python",
   "nbconvert_exporter": "python",
   "pygments_lexer": "ipython3",
   "version": "3.5.3"
  }
 },
 "nbformat": 4,
 "nbformat_minor": 2
}
